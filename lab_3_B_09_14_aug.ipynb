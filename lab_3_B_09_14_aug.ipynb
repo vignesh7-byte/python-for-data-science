{
  "nbformat": 4,
  "nbformat_minor": 0,
  "metadata": {
    "colab": {
      "provenance": [],
      "name": "lab-3-B12-14-aug.ipynb",
      "include_colab_link": true
    },
    "kernelspec": {
      "name": "python3",
      "display_name": "Python 3"
    },
    "language_info": {
      "name": "python"
    }
  },
  "cells": [
    {
      "cell_type": "markdown",
      "metadata": {
        "id": "view-in-github",
        "colab_type": "text"
      },
      "source": [
        "<a href=\"https://colab.research.google.com/github/vignesh7-byte/python-for-data-science/blob/main/lab_3_B_09_14_aug.ipynb\" target=\"_parent\"><img src=\"https://colab.research.google.com/assets/colab-badge.svg\" alt=\"Open In Colab\"/></a>"
      ]
    },
    {
      "cell_type": "code",
      "execution_count": 1,
      "metadata": {
        "colab": {
          "base_uri": "https://localhost:8080/"
        },
        "id": "kO9KHIxkzHIW",
        "outputId": "01ed5e9d-8f2c-40c3-ac97-0e4b8390b5a0"
      },
      "outputs": [
        {
          "output_type": "stream",
          "name": "stdout",
          "text": [
            "Matrix 1:\n",
            " [[ 5  8  2]\n",
            " [10  3  7]\n",
            " [ 6  1  9]]\n",
            "\n",
            "Matrix 2:\n",
            " [[4 7 6]\n",
            " [2 9 3]\n",
            " [8 5 4]]\n",
            "\n",
            "Addition:\n",
            " [[ 9 15  8]\n",
            " [12 12 10]\n",
            " [14  6 13]]\n",
            "\n",
            "Subtraction:\n",
            " [[ 1  1 -4]\n",
            " [ 8 -6  4]\n",
            " [-2 -4  5]]\n",
            "\n",
            "Manual Verification for element (0,0):\n",
            "Addition: 5 + 4 = 9\n",
            "Subtraction: 5 - 4 = 1\n"
          ]
        }
      ],
      "source": [
        "# Matrix Addition and SUbtraction\n",
        "import numpy as np\n",
        "\n",
        "matrix1 = np.array([[5, 8, 2],\n",
        "                    [10, 3, 7],\n",
        "                    [6, 1, 9]])\n",
        "\n",
        "matrix2 = np.array([[4, 7, 6],\n",
        "                    [2, 9, 3],\n",
        "                    [8, 5, 4]])\n",
        "\n",
        "addition = np.add(matrix1, matrix2)\n",
        "subtraction = np.subtract(matrix1, matrix2)\n",
        "\n",
        "print(\"Matrix 1:\\n\", matrix1)\n",
        "print(\"\\nMatrix 2:\\n\", matrix2)\n",
        "print(\"\\nAddition:\\n\", addition)\n",
        "print(\"\\nSubtraction:\\n\", subtraction)\n",
        "\n",
        "add = matrix1[0, 0] + matrix2[0, 0]\n",
        "sub = matrix1[0, 0] - matrix2[0, 0]\n",
        "\n",
        "print(\"\\nManual Verification for element (0,0):\")\n",
        "print(f\"Addition: {matrix1[0,0]} + {matrix2[0,0]} = {add}\")\n",
        "print(f\"Subtraction: {matrix1[0,0]} - {matrix2[0,0]} = {sub}\")"
      ]
    },
    {
      "cell_type": "code",
      "source": [
        "# Matrix multiplication using Dot product\n",
        "\n",
        "import numpy as np\n",
        "\n",
        "import matplotlib.pyplot as plt\n",
        "\n",
        "A = np.array([[2, 4],\n",
        "\n",
        "              [1, 3],\n",
        "\n",
        "              [5, 7]])\n",
        "\n",
        "B = np.array([[3, 6, 2],\n",
        "\n",
        "              [4, 5, 8]])\n",
        "\n",
        "print(\"Matrix A:\\n\", A)\n",
        "\n",
        "print(\"\\nMatrix B:\\n\", B)\n",
        "\n",
        "\n",
        "if A.shape[1] != B.shape[0]:\n",
        "\n",
        "    raise ValueError(\"Matrices are not for multiplication!\")\n",
        "\n",
        "\n",
        "\n",
        "result_dot = np.dot(A, B)\n",
        "\n",
        "print(\"\\nDot Product:\\n\", result_dot)\n",
        "\n",
        "print(\"\\nManual calculation for result[0][0]:\")\n",
        "\n",
        "print(f\"(2*3) + (4*4) = {2*3 + 4*4}\")\n",
        "\n",
        "\n",
        "plt.figure(figsize=(10, 3))\n",
        "\n",
        "plt.subplot(1, 3, 1)\n",
        "\n",
        "plt.imshow(A, cmap='Blues')\n",
        "\n",
        "plt.title(\"Matrix A (Pixels)\")\n",
        "\n",
        "plt.colorbar()\n",
        "\n",
        "plt.subplot(1, 3, 2)\n",
        "\n",
        "plt.imshow(B, cmap='Oranges')\n",
        "\n",
        "plt.title(\"Matrix B (Filter)\")\n",
        "\n",
        "plt.colorbar()\n",
        "\n",
        "plt.subplot(1, 3, 3)\n",
        "\n",
        "plt.imshow(result_dot, cmap='Greens')\n",
        "\n",
        "plt.title(\"Result (Transformed)\")\n",
        "\n",
        "plt.colorbar()\n",
        "\n",
        "plt.tight_layout()\n",
        "\n",
        "plt.show()"
      ],
      "metadata": {
        "colab": {
          "base_uri": "https://localhost:8080/",
          "height": 585
        },
        "id": "yvUFSuTN0pJ5",
        "outputId": "1f31de85-83a2-4eea-ba51-9165aa744877"
      },
      "execution_count": 2,
      "outputs": [
        {
          "output_type": "stream",
          "name": "stdout",
          "text": [
            "Matrix A:\n",
            " [[2 4]\n",
            " [1 3]\n",
            " [5 7]]\n",
            "\n",
            "Matrix B:\n",
            " [[3 6 2]\n",
            " [4 5 8]]\n",
            "\n",
            "Dot Product:\n",
            " [[22 32 36]\n",
            " [15 21 26]\n",
            " [43 65 66]]\n",
            "\n",
            "Manual calculation for result[0][0]:\n",
            "(2*3) + (4*4) = 22\n"
          ]
        },
        {
          "output_type": "display_data",
          "data": {
            "text/plain": [
              "<Figure size 1000x300 with 6 Axes>"
            ],
            "image/png": "[encoded data removed]"
          },
          "metadata": {}
        }
      ]
    }
  ]
}