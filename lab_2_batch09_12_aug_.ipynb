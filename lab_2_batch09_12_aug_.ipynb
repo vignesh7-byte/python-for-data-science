{
  "nbformat": 4,
  "nbformat_minor": 0,
  "metadata": {
    "colab": {
      "provenance": [],
      "name": "lab-2-12-aug .ipynb",
      "include_colab_link": true
    },
    "kernelspec": {
      "name": "python3",
      "display_name": "Python 3"
    },
    "language_info": {
      "name": "python"
    }
  },
  "cells": [
    {
      "cell_type": "markdown",
      "metadata": {
        "id": "view-in-github",
        "colab_type": "text"
      },
      "source": [
        "<a href=\"https://colab.research.google.com/github/vignesh7-byte/python-for-data-science/blob/main/lab_2_batch09_12_aug_.ipynb\" target=\"_parent\"><img src=\"https://colab.research.google.com/assets/colab-badge.svg\" alt=\"Open In Colab\"/></a>"
      ]
    },
    {
      "cell_type": "code",
      "execution_count": 1,
      "metadata": {
        "colab": {
          "base_uri": "https://localhost:8080/"
        },
        "id": "IFeMegQb69QI",
        "outputId": "bd9c2ef0-79d0-43f1-fbc5-34a8522840d9"
      },
      "outputs": [
        {
          "output_type": "stream",
          "name": "stdout",
          "text": [
            "Initial DataFrame:\n",
            "    Order ID   Product  Quantity  Price\n",
            "0       101    Laptop         1  75000\n",
            "1       102     Mouse         5    500\n",
            "2       103  Keyboard         3   1500\n",
            "3       104   Monitor         2  12000\n",
            "4       105    Laptop         2  75000\n",
            "5       106     Mouse        10    500\n",
            "6       107   Monitor         1  12000\n",
            "\n",
            "DataFrame with Total Sale:\n",
            "    Order ID   Product  Quantity  Price  Total Sale\n",
            "0       101    Laptop         1  75000       75000\n",
            "1       102     Mouse         5    500        2500\n",
            "2       103  Keyboard         3   1500        4500\n",
            "3       104   Monitor         2  12000       24000\n",
            "4       105    Laptop         2  75000      150000\n",
            "5       106     Mouse        10    500        5000\n",
            "6       107   Monitor         1  12000       12000\n",
            "\n",
            "Orders with Total Sale > 1000:\n",
            "    Order ID   Product  Quantity  Price  Total Sale\n",
            "0       101    Laptop         1  75000       75000\n",
            "1       102     Mouse         5    500        2500\n",
            "2       103  Keyboard         3   1500        4500\n",
            "3       104   Monitor         2  12000       24000\n",
            "4       105    Laptop         2  75000      150000\n",
            "5       106     Mouse        10    500        5000\n",
            "6       107   Monitor         1  12000       12000\n",
            "\n",
            "Most Sold Products:\n",
            "     Product  Quantity\n",
            "3     Mouse        15\n",
            "0  Keyboard         3\n",
            "1    Laptop         3\n",
            "2   Monitor         3\n",
            "\n",
            "DataFrame with Discount:\n",
            "    Order ID   Product  Quantity  Price  Total Sale  Discount\n",
            "0       101    Laptop         1  75000       75000    7500.0\n",
            "1       102     Mouse         5    500        2500       0.0\n",
            "2       103  Keyboard         3   1500        4500       0.0\n",
            "3       104   Monitor         2  12000       24000    1200.0\n",
            "4       105    Laptop         2  75000      150000   15000.0\n",
            "5       106     Mouse        10    500        5000       0.0\n",
            "6       107   Monitor         1  12000       12000     600.0\n",
            "\n",
            "Excel file 'sales_summary.xlsx' has been created.\n"
          ]
        }
      ],
      "source": [
        "import pandas as pd\n",
        "\n",
        "data = {\n",
        "    'Order ID': [101, 102, 103, 104, 105, 106, 107],\n",
        "    'Product': ['Laptop', 'Mouse', 'Keyboard', 'Monitor', 'Laptop', 'Mouse', 'Monitor'],\n",
        "    'Quantity': [1, 5, 3, 2, 2, 10, 1],\n",
        "    'Price': [75000, 500, 1500, 12000, 75000, 500, 12000]\n",
        "}\n",
        "\n",
        "df = pd.DataFrame(data)\n",
        "print(\"Initial DataFrame:\\n\", df)\n",
        "\n",
        "df['Total Sale'] = df['Quantity'] * df['Price']\n",
        "print(\"\\nDataFrame with Total Sale:\\n\", df)\n",
        "\n",
        "high_sales = df[df['Total Sale'] > 1000]\n",
        "print(\"\\nOrders with Total Sale > 1000:\\n\", high_sales)\n",
        "\n",
        "most_sold = df.groupby('Product')['Quantity'].sum().reset_index()\n",
        "most_sold = most_sold.sort_values(by='Quantity', ascending=False)\n",
        "print(\"\\nMost Sold Products:\\n\", most_sold)\n",
        "\n",
        "def discount_rule(sale):\n",
        "    if sale > 50000:\n",
        "        return sale * 0.10\n",
        "    elif sale >= 10000:\n",
        "        return sale * 0.05\n",
        "    else:\n",
        "        return 0\n",
        "\n",
        "df['Discount'] = df['Total Sale'].apply(discount_rule)\n",
        "print(\"\\nDataFrame with Discount:\\n\", df)\n",
        "\n",
        "summary = {\n",
        "    'High Sales Orders': high_sales,\n",
        "    'Most Sold Products': most_sold\n",
        "}\n",
        "\n",
        "with pd.ExcelWriter('sales_summary.xlsx') as writer:\n",
        "    high_sales.to_excel(writer, sheet_name='High Sales', index=False)\n",
        "    most_sold.to_excel(writer, sheet_name='Most Sold', index=False)\n",
        "    df.to_excel(writer, sheet_name='Full Data', index=False)\n",
        "\n",
        "print(\"\\nExcel file 'sales_summary.xlsx' has been created.\")"
      ]
    },
    {
      "cell_type": "code",
      "source": [
        "import pandas as pd\n",
        "import matplotlib.pyplot as plt\n",
        "\n",
        "budget_data = {\n",
        "    'Department': ['HR', 'IT', 'Finance', 'Marketing', 'Operations'],\n",
        "    'Budget': [50000, 120000, 90000, 75000, 110000]\n",
        "}\n",
        "\n",
        "df_budget = pd.DataFrame(budget_data)\n",
        "print(\"Department Budget DataFrame:\\n\", df_budget)\n",
        "\n",
        "expenses_data = {\n",
        "    'Department': ['HR', 'IT', 'Finance', 'Marketing', 'Operations'],\n",
        "    'Actual Expenses': [52000, 115000, 95000, 80000, 125000]\n",
        "}\n",
        "\n",
        "df_expenses = pd.DataFrame(expenses_data)\n",
        "print(\"\\nActual Expenses DataFrame:\\n\", df_expenses)\n",
        "\n",
        "merged_df = pd.merge(df_budget, df_expenses, on='Department')\n",
        "print(\"\\nMerged DataFrame:\\n\", merged_df)\n",
        "\n",
        "merged_df['Variance'] = merged_df['Actual Expenses'] - merged_df['Budget']\n",
        "print(\"\\nDataFrame with Variance:\\n\", merged_df)\n",
        "\n",
        "over_budget = merged_df[merged_df['Variance'] > 0]\n",
        "print(\"\\nDepartments exceeding budget:\\n\", over_budget)\n",
        "\n",
        "sorted_df = merged_df.sort_values(by='Variance', ascending=False)\n",
        "print(\"\\nDepartments sorted by variance:\\n\", sorted_df)\n",
        "\n",
        "plt.figure(figsize=(8, 5))\n",
        "bar_width = 0.35\n",
        "x = range(len(merged_df['Department']))\n",
        "\n",
        "plt.bar(x, merged_df['Budget'], width=bar_width, label='Budget', color='skyblue')\n",
        "plt.bar([p + bar_width for p in x], merged_df['Actual Expenses'], width=bar_width, label='Actual Expenses', color='orange')\n",
        "\n",
        "plt.xlabel('Department')\n",
        "plt.ylabel('Amount (₹)')\n",
        "plt.title('Department Budget vs Actual Expenses')\n",
        "plt.xticks([p + bar_width/2 for p in x], merged_df['Department'])\n",
        "plt.legend()\n",
        "plt.tight_layout()\n",
        "plt.show()"
      ],
      "metadata": {
        "colab": {
          "base_uri": "https://localhost:8080/",
          "height": 1000
        },
        "id": "qn4-jBZN-BaK",
        "outputId": "9ce3319a-0066-4741-d14f-f4f3307f48cf"
      },
      "execution_count": null,
      "outputs": [
        {
          "output_type": "stream",
          "name": "stdout",
          "text": [
            "Department Budget DataFrame:\n",
            "    Department  Budget\n",
            "0          HR   50000\n",
            "1          IT  120000\n",
            "2     Finance   90000\n",
            "3   Marketing   75000\n",
            "4  Operations  110000\n",
            "\n",
            "Actual Expenses DataFrame:\n",
            "    Department  Actual Expenses\n",
            "0          HR            52000\n",
            "1          IT           115000\n",
            "2     Finance            95000\n",
            "3   Marketing            80000\n",
            "4  Operations           125000\n",
            "\n",
            "Merged DataFrame:\n",
            "    Department  Budget  Actual Expenses\n",
            "0          HR   50000            52000\n",
            "1          IT  120000           115000\n",
            "2     Finance   90000            95000\n",
            "3   Marketing   75000            80000\n",
            "4  Operations  110000           125000\n",
            "\n",
            "DataFrame with Variance:\n",
            "    Department  Budget  Actual Expenses  Variance\n",
            "0          HR   50000            52000      2000\n",
            "1          IT  120000           115000     -5000\n",
            "2     Finance   90000            95000      5000\n",
            "3   Marketing   75000            80000      5000\n",
            "4  Operations  110000           125000     15000\n",
            "\n",
            "Departments exceeding budget:\n",
            "    Department  Budget  Actual Expenses  Variance\n",
            "0          HR   50000            52000      2000\n",
            "2     Finance   90000            95000      5000\n",
            "3   Marketing   75000            80000      5000\n",
            "4  Operations  110000           125000     15000\n",
            "\n",
            "Departments sorted by variance:\n",
            "    Department  Budget  Actual Expenses  Variance\n",
            "4  Operations  110000           125000     15000\n",
            "3   Marketing   75000            80000      5000\n",
            "2     Finance   90000            95000      5000\n",
            "0          HR   50000            52000      2000\n",
            "1          IT  120000           115000     -5000\n"
          ]
        },
        {
          "output_type": "display_data",
          "data": {
            "text/plain": [
              "<Figure size 800x500 with 1 Axes>"
            ],
            "image/png": "[encoded data removed]"
          },
          "metadata": {}
        }
      ]
    }
  ]
}